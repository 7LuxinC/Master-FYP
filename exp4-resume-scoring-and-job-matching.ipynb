{
 "cells": [
  {
   "cell_type": "markdown",
   "id": "84ffb818",
   "metadata": {
    "papermill": {
     "duration": 0.00453,
     "end_time": "2025-08-22T04:15:55.833306",
     "exception": false,
     "start_time": "2025-08-22T04:15:55.828776",
     "status": "completed"
    },
    "tags": []
   },
   "source": [
    "# 1. Import Libraries:"
   ]
  },
  {
   "cell_type": "code",
   "execution_count": 1,
   "id": "fd310c46",
   "metadata": {
    "execution": {
     "iopub.execute_input": "2025-08-22T04:15:55.841017Z",
     "iopub.status.busy": "2025-08-22T04:15:55.840703Z",
     "iopub.status.idle": "2025-08-22T04:15:59.325022Z",
     "shell.execute_reply": "2025-08-22T04:15:59.324081Z"
    },
    "papermill": {
     "duration": 3.489828,
     "end_time": "2025-08-22T04:15:59.326599",
     "exception": false,
     "start_time": "2025-08-22T04:15:55.836771",
     "status": "completed"
    },
    "tags": []
   },
   "outputs": [],
   "source": [
    "import pandas as pd\n",
    "from sklearn.feature_extraction.text import TfidfVectorizer\n",
    "from sklearn.metrics.pairwise import cosine_similarity\n",
    "from sklearn.metrics import mean_squared_error\n",
    "import matplotlib.pyplot as plt\n"
   ]
  },
  {
   "cell_type": "markdown",
   "id": "7205d14d",
   "metadata": {
    "papermill": {
     "duration": 0.002881,
     "end_time": "2025-08-22T04:15:59.332995",
     "exception": false,
     "start_time": "2025-08-22T04:15:59.330114",
     "status": "completed"
    },
    "tags": []
   },
   "source": [
    "# 2. Load Dataset:"
   ]
  },
  {
   "cell_type": "code",
   "execution_count": 2,
   "id": "ee1a5d1c",
   "metadata": {
    "execution": {
     "iopub.execute_input": "2025-08-22T04:15:59.341111Z",
     "iopub.status.busy": "2025-08-22T04:15:59.340696Z",
     "iopub.status.idle": "2025-08-22T04:15:59.466198Z",
     "shell.execute_reply": "2025-08-22T04:15:59.465305Z"
    },
    "papermill": {
     "duration": 0.131899,
     "end_time": "2025-08-22T04:15:59.468021",
     "exception": false,
     "start_time": "2025-08-22T04:15:59.336122",
     "status": "completed"
    },
    "tags": []
   },
   "outputs": [
    {
     "data": {
      "text/html": [
       "<div>\n",
       "<style scoped>\n",
       "    .dataframe tbody tr th:only-of-type {\n",
       "        vertical-align: middle;\n",
       "    }\n",
       "\n",
       "    .dataframe tbody tr th {\n",
       "        vertical-align: top;\n",
       "    }\n",
       "\n",
       "    .dataframe thead th {\n",
       "        text-align: right;\n",
       "    }\n",
       "</style>\n",
       "<table border=\"1\" class=\"dataframe\">\n",
       "  <thead>\n",
       "    <tr style=\"text-align: right;\">\n",
       "      <th></th>\n",
       "      <th>job_description</th>\n",
       "      <th>resume</th>\n",
       "      <th>match_score</th>\n",
       "    </tr>\n",
       "  </thead>\n",
       "  <tbody>\n",
       "    <tr>\n",
       "      <th>0</th>\n",
       "      <td>Data Analyst needed with experience in SQL, Ex...</td>\n",
       "      <td>Experienced professional skilled in SQL, Power...</td>\n",
       "      <td>4</td>\n",
       "    </tr>\n",
       "    <tr>\n",
       "      <th>1</th>\n",
       "      <td>Data Scientist needed with experience in Stati...</td>\n",
       "      <td>Experienced professional skilled in Python, De...</td>\n",
       "      <td>4</td>\n",
       "    </tr>\n",
       "    <tr>\n",
       "      <th>2</th>\n",
       "      <td>Software Engineer needed with experience in Sy...</td>\n",
       "      <td>Experienced professional skilled in wait, Git,...</td>\n",
       "      <td>5</td>\n",
       "    </tr>\n",
       "    <tr>\n",
       "      <th>3</th>\n",
       "      <td>ML Engineer needed with experience in Python, ...</td>\n",
       "      <td>Experienced professional skilled in return, De...</td>\n",
       "      <td>4</td>\n",
       "    </tr>\n",
       "    <tr>\n",
       "      <th>4</th>\n",
       "      <td>Software Engineer needed with experience in RE...</td>\n",
       "      <td>Experienced professional skilled in REST APIs,...</td>\n",
       "      <td>5</td>\n",
       "    </tr>\n",
       "    <tr>\n",
       "      <th>5</th>\n",
       "      <td>Data Analyst needed with experience in Excel, ...</td>\n",
       "      <td>Experienced professional skilled in Data Clean...</td>\n",
       "      <td>2</td>\n",
       "    </tr>\n",
       "    <tr>\n",
       "      <th>6</th>\n",
       "      <td>Software Engineer needed with experience in RE...</td>\n",
       "      <td>Experienced professional skilled in System Des...</td>\n",
       "      <td>2</td>\n",
       "    </tr>\n",
       "    <tr>\n",
       "      <th>7</th>\n",
       "      <td>Product Manager needed with experience in Stak...</td>\n",
       "      <td>Experienced professional skilled in Product Ro...</td>\n",
       "      <td>3</td>\n",
       "    </tr>\n",
       "    <tr>\n",
       "      <th>8</th>\n",
       "      <td>Data Analyst needed with experience in Excel, ...</td>\n",
       "      <td>Experienced professional skilled in as, choice...</td>\n",
       "      <td>4</td>\n",
       "    </tr>\n",
       "    <tr>\n",
       "      <th>9</th>\n",
       "      <td>ML Engineer needed with experience in MLOps, P...</td>\n",
       "      <td>Experienced professional skilled in author, Co...</td>\n",
       "      <td>2</td>\n",
       "    </tr>\n",
       "  </tbody>\n",
       "</table>\n",
       "</div>"
      ],
      "text/plain": [
       "                                     job_description  \\\n",
       "0  Data Analyst needed with experience in SQL, Ex...   \n",
       "1  Data Scientist needed with experience in Stati...   \n",
       "2  Software Engineer needed with experience in Sy...   \n",
       "3  ML Engineer needed with experience in Python, ...   \n",
       "4  Software Engineer needed with experience in RE...   \n",
       "5  Data Analyst needed with experience in Excel, ...   \n",
       "6  Software Engineer needed with experience in RE...   \n",
       "7  Product Manager needed with experience in Stak...   \n",
       "8  Data Analyst needed with experience in Excel, ...   \n",
       "9  ML Engineer needed with experience in MLOps, P...   \n",
       "\n",
       "                                              resume  match_score  \n",
       "0  Experienced professional skilled in SQL, Power...            4  \n",
       "1  Experienced professional skilled in Python, De...            4  \n",
       "2  Experienced professional skilled in wait, Git,...            5  \n",
       "3  Experienced professional skilled in return, De...            4  \n",
       "4  Experienced professional skilled in REST APIs,...            5  \n",
       "5  Experienced professional skilled in Data Clean...            2  \n",
       "6  Experienced professional skilled in System Des...            2  \n",
       "7  Experienced professional skilled in Product Ro...            3  \n",
       "8  Experienced professional skilled in as, choice...            4  \n",
       "9  Experienced professional skilled in author, Co...            2  "
      ]
     },
     "execution_count": 2,
     "metadata": {},
     "output_type": "execute_result"
    }
   ],
   "source": [
    "df = pd.read_csv(\"/kaggle/input/resume-vs-job-description-matching-dataset/resume_job_matching_dataset.csv\") \n",
    "\n",
    "df.head(10)"
   ]
  },
  {
   "cell_type": "markdown",
   "id": "f1872fbb",
   "metadata": {
    "papermill": {
     "duration": 0.003127,
     "end_time": "2025-08-22T04:15:59.475116",
     "exception": false,
     "start_time": "2025-08-22T04:15:59.471989",
     "status": "completed"
    },
    "tags": []
   },
   "source": [
    "- The dataset resume_job_matching_dataset.csv includes job descriptions, resumes, and a match_score (1–5) indicating alignment between them, with higher scores reflecting stronger matches."
   ]
  },
  {
   "cell_type": "markdown",
   "id": "0390a3e4",
   "metadata": {
    "papermill": {
     "duration": 0.003037,
     "end_time": "2025-08-22T04:15:59.481557",
     "exception": false,
     "start_time": "2025-08-22T04:15:59.478520",
     "status": "completed"
    },
    "tags": []
   },
   "source": [
    "# 3. Data Cleaning:"
   ]
  },
  {
   "cell_type": "code",
   "execution_count": 3,
   "id": "52e71908",
   "metadata": {
    "execution": {
     "iopub.execute_input": "2025-08-22T04:15:59.489491Z",
     "iopub.status.busy": "2025-08-22T04:15:59.489166Z",
     "iopub.status.idle": "2025-08-22T04:15:59.507311Z",
     "shell.execute_reply": "2025-08-22T04:15:59.506277Z"
    },
    "papermill": {
     "duration": 0.023777,
     "end_time": "2025-08-22T04:15:59.508769",
     "exception": false,
     "start_time": "2025-08-22T04:15:59.484992",
     "status": "completed"
    },
    "tags": []
   },
   "outputs": [
    {
     "name": "stdout",
     "output_type": "stream",
     "text": [
      "Dataset size: (10000, 3)\n"
     ]
    }
   ],
   "source": [
    "# clean all missing values if there is any \n",
    "df = df.dropna(subset=[\"job_description\", \"resume\"])\n",
    "df = df.reset_index(drop=True)\n",
    "\n",
    "print(\"Dataset size:\", df.shape)\n"
   ]
  },
  {
   "cell_type": "markdown",
   "id": "b56da483",
   "metadata": {
    "papermill": {
     "duration": 0.003778,
     "end_time": "2025-08-22T04:15:59.516478",
     "exception": false,
     "start_time": "2025-08-22T04:15:59.512700",
     "status": "completed"
    },
    "tags": []
   },
   "source": [
    "# 4. TF-IDF Vectorisation:"
   ]
  },
  {
   "cell_type": "code",
   "execution_count": 4,
   "id": "3fee89de",
   "metadata": {
    "execution": {
     "iopub.execute_input": "2025-08-22T04:15:59.524792Z",
     "iopub.status.busy": "2025-08-22T04:15:59.524527Z",
     "iopub.status.idle": "2025-08-22T04:15:59.927755Z",
     "shell.execute_reply": "2025-08-22T04:15:59.926906Z"
    },
    "papermill": {
     "duration": 0.409162,
     "end_time": "2025-08-22T04:15:59.929380",
     "exception": false,
     "start_time": "2025-08-22T04:15:59.520218",
     "status": "completed"
    },
    "tags": []
   },
   "outputs": [],
   "source": [
    "# Combine job descriptions and resumes into one corpus\n",
    "corpus = df[\"job_description\"].tolist() + df[\"resume\"].tolist()\n",
    "\n",
    "vectorizer = TfidfVectorizer(stop_words=\"english\", max_features=5000)\n",
    "X = vectorizer.fit_transform(corpus)\n",
    "\n",
    "# Split vectors (job + resume)\n",
    "n = len(df)\n",
    "job_vecs = X[:n]\n",
    "resume_vecs = X[n:]\n"
   ]
  },
  {
   "cell_type": "markdown",
   "id": "68d2c9f2",
   "metadata": {
    "papermill": {
     "duration": 0.003471,
     "end_time": "2025-08-22T04:15:59.938111",
     "exception": false,
     "start_time": "2025-08-22T04:15:59.934640",
     "status": "completed"
    },
    "tags": []
   },
   "source": [
    "# 5.Cosine Similarity:"
   ]
  },
  {
   "cell_type": "code",
   "execution_count": 5,
   "id": "0d945ff9",
   "metadata": {
    "execution": {
     "iopub.execute_input": "2025-08-22T04:15:59.947158Z",
     "iopub.status.busy": "2025-08-22T04:15:59.946850Z",
     "iopub.status.idle": "2025-08-22T04:16:05.294164Z",
     "shell.execute_reply": "2025-08-22T04:16:05.293296Z"
    },
    "papermill": {
     "duration": 5.353413,
     "end_time": "2025-08-22T04:16:05.295920",
     "exception": false,
     "start_time": "2025-08-22T04:15:59.942507",
     "status": "completed"
    },
    "tags": []
   },
   "outputs": [
    {
     "data": {
      "text/html": [
       "<div>\n",
       "<style scoped>\n",
       "    .dataframe tbody tr th:only-of-type {\n",
       "        vertical-align: middle;\n",
       "    }\n",
       "\n",
       "    .dataframe tbody tr th {\n",
       "        vertical-align: top;\n",
       "    }\n",
       "\n",
       "    .dataframe thead th {\n",
       "        text-align: right;\n",
       "    }\n",
       "</style>\n",
       "<table border=\"1\" class=\"dataframe\">\n",
       "  <thead>\n",
       "    <tr style=\"text-align: right;\">\n",
       "      <th></th>\n",
       "      <th>job_description</th>\n",
       "      <th>resume</th>\n",
       "      <th>match_score</th>\n",
       "      <th>predicted_similarity</th>\n",
       "    </tr>\n",
       "  </thead>\n",
       "  <tbody>\n",
       "    <tr>\n",
       "      <th>0</th>\n",
       "      <td>Data Analyst needed with experience in SQL, Ex...</td>\n",
       "      <td>Experienced professional skilled in SQL, Power...</td>\n",
       "      <td>4</td>\n",
       "      <td>0.106714</td>\n",
       "    </tr>\n",
       "    <tr>\n",
       "      <th>1</th>\n",
       "      <td>Data Scientist needed with experience in Stati...</td>\n",
       "      <td>Experienced professional skilled in Python, De...</td>\n",
       "      <td>4</td>\n",
       "      <td>0.149304</td>\n",
       "    </tr>\n",
       "    <tr>\n",
       "      <th>2</th>\n",
       "      <td>Software Engineer needed with experience in Sy...</td>\n",
       "      <td>Experienced professional skilled in wait, Git,...</td>\n",
       "      <td>5</td>\n",
       "      <td>0.108091</td>\n",
       "    </tr>\n",
       "    <tr>\n",
       "      <th>3</th>\n",
       "      <td>ML Engineer needed with experience in Python, ...</td>\n",
       "      <td>Experienced professional skilled in return, De...</td>\n",
       "      <td>4</td>\n",
       "      <td>0.117521</td>\n",
       "    </tr>\n",
       "    <tr>\n",
       "      <th>4</th>\n",
       "      <td>Software Engineer needed with experience in RE...</td>\n",
       "      <td>Experienced professional skilled in REST APIs,...</td>\n",
       "      <td>5</td>\n",
       "      <td>0.186584</td>\n",
       "    </tr>\n",
       "  </tbody>\n",
       "</table>\n",
       "</div>"
      ],
      "text/plain": [
       "                                     job_description  \\\n",
       "0  Data Analyst needed with experience in SQL, Ex...   \n",
       "1  Data Scientist needed with experience in Stati...   \n",
       "2  Software Engineer needed with experience in Sy...   \n",
       "3  ML Engineer needed with experience in Python, ...   \n",
       "4  Software Engineer needed with experience in RE...   \n",
       "\n",
       "                                              resume  match_score  \\\n",
       "0  Experienced professional skilled in SQL, Power...            4   \n",
       "1  Experienced professional skilled in Python, De...            4   \n",
       "2  Experienced professional skilled in wait, Git,...            5   \n",
       "3  Experienced professional skilled in return, De...            4   \n",
       "4  Experienced professional skilled in REST APIs,...            5   \n",
       "\n",
       "   predicted_similarity  \n",
       "0              0.106714  \n",
       "1              0.149304  \n",
       "2              0.108091  \n",
       "3              0.117521  \n",
       "4              0.186584  "
      ]
     },
     "execution_count": 5,
     "metadata": {},
     "output_type": "execute_result"
    }
   ],
   "source": [
    "# Compute similarity for each job–resume pair\n",
    "df[\"predicted_similarity\"] = [\n",
    "    cosine_similarity(job_vecs[i], resume_vecs[i])[0][0] for i in range(n)\n",
    "]\n",
    "\n",
    "df.head()\n"
   ]
  },
  {
   "cell_type": "markdown",
   "id": "7d9a68a2",
   "metadata": {
    "papermill": {
     "duration": 0.003434,
     "end_time": "2025-08-22T04:16:05.303265",
     "exception": false,
     "start_time": "2025-08-22T04:16:05.299831",
     "status": "completed"
    },
    "tags": []
   },
   "source": [
    "# 6. Evaluation:"
   ]
  },
  {
   "cell_type": "code",
   "execution_count": 6,
   "id": "95e28eb6",
   "metadata": {
    "execution": {
     "iopub.execute_input": "2025-08-22T04:16:05.311562Z",
     "iopub.status.busy": "2025-08-22T04:16:05.311260Z",
     "iopub.status.idle": "2025-08-22T04:16:05.336458Z",
     "shell.execute_reply": "2025-08-22T04:16:05.335519Z"
    },
    "papermill": {
     "duration": 0.031259,
     "end_time": "2025-08-22T04:16:05.338030",
     "exception": false,
     "start_time": "2025-08-22T04:16:05.306771",
     "status": "completed"
    },
    "tags": []
   },
   "outputs": [
    {
     "name": "stdout",
     "output_type": "stream",
     "text": [
      "Mean Squared Error (MSE): 12.804191936163734\n"
     ]
    }
   ],
   "source": [
    "#Evaluation using MSE \n",
    "#Cosine similarity ranges 0–1, while labels are 1–5.\n",
    "mse = mean_squared_error(df[\"match_score\"], df[\"predicted_similarity\"])\n",
    "print(\"Mean Squared Error (MSE):\", mse)\n"
   ]
  },
  {
   "cell_type": "markdown",
   "id": "e2b8da61",
   "metadata": {
    "papermill": {
     "duration": 0.003367,
     "end_time": "2025-08-22T04:16:05.345105",
     "exception": false,
     "start_time": "2025-08-22T04:16:05.341738",
     "status": "completed"
    },
    "tags": []
   },
   "source": [
    "# 7. Visualisation:"
   ]
  },
  {
   "cell_type": "markdown",
   "id": "16bd7a29",
   "metadata": {
    "papermill": {
     "duration": 0.003277,
     "end_time": "2025-08-22T04:16:05.352040",
     "exception": false,
     "start_time": "2025-08-22T04:16:05.348763",
     "status": "completed"
    },
    "tags": []
   },
   "source": [
    "## 7.1 Compute Resume Similarity for One Job"
   ]
  },
  {
   "cell_type": "code",
   "execution_count": 7,
   "id": "e21d6917",
   "metadata": {
    "execution": {
     "iopub.execute_input": "2025-08-22T04:16:05.361036Z",
     "iopub.status.busy": "2025-08-22T04:16:05.360712Z",
     "iopub.status.idle": "2025-08-22T04:16:05.384505Z",
     "shell.execute_reply": "2025-08-22T04:16:05.383630Z"
    },
    "papermill": {
     "duration": 0.029934,
     "end_time": "2025-08-22T04:16:05.385971",
     "exception": false,
     "start_time": "2025-08-22T04:16:05.356037",
     "status": "completed"
    },
    "tags": []
   },
   "outputs": [
    {
     "data": {
      "text/html": [
       "<div>\n",
       "<style scoped>\n",
       "    .dataframe tbody tr th:only-of-type {\n",
       "        vertical-align: middle;\n",
       "    }\n",
       "\n",
       "    .dataframe tbody tr th {\n",
       "        vertical-align: top;\n",
       "    }\n",
       "\n",
       "    .dataframe thead th {\n",
       "        text-align: right;\n",
       "    }\n",
       "</style>\n",
       "<table border=\"1\" class=\"dataframe\">\n",
       "  <thead>\n",
       "    <tr style=\"text-align: right;\">\n",
       "      <th></th>\n",
       "      <th>resume</th>\n",
       "      <th>similarity_score</th>\n",
       "    </tr>\n",
       "  </thead>\n",
       "  <tbody>\n",
       "    <tr>\n",
       "      <th>9261</th>\n",
       "      <td>Experienced professional skilled in Power BI, ...</td>\n",
       "      <td>0.387788</td>\n",
       "    </tr>\n",
       "    <tr>\n",
       "      <th>8202</th>\n",
       "      <td>Experienced professional skilled in Reporting,...</td>\n",
       "      <td>0.360314</td>\n",
       "    </tr>\n",
       "    <tr>\n",
       "      <th>2824</th>\n",
       "      <td>Experienced professional skilled in Power BI, ...</td>\n",
       "      <td>0.328135</td>\n",
       "    </tr>\n",
       "    <tr>\n",
       "      <th>2206</th>\n",
       "      <td>Experienced professional skilled in Excel, Pow...</td>\n",
       "      <td>0.327663</td>\n",
       "    </tr>\n",
       "    <tr>\n",
       "      <th>2296</th>\n",
       "      <td>Experienced professional skilled in value, Exc...</td>\n",
       "      <td>0.316530</td>\n",
       "    </tr>\n",
       "  </tbody>\n",
       "</table>\n",
       "</div>"
      ],
      "text/plain": [
       "                                                 resume  similarity_score\n",
       "9261  Experienced professional skilled in Power BI, ...          0.387788\n",
       "8202  Experienced professional skilled in Reporting,...          0.360314\n",
       "2824  Experienced professional skilled in Power BI, ...          0.328135\n",
       "2206  Experienced professional skilled in Excel, Pow...          0.327663\n",
       "2296  Experienced professional skilled in value, Exc...          0.316530"
      ]
     },
     "execution_count": 7,
     "metadata": {},
     "output_type": "execute_result"
    }
   ],
   "source": [
    "job_text = df.loc[0, \"job_description\"]\n",
    "\n",
    "# Compare against ALL resumes\n",
    "job_vec = vectorizer.transform([job_text])\n",
    "similarities = cosine_similarity(job_vec, resume_vecs).flatten()\n",
    "\n",
    "# Store ranking\n",
    "ranking = df.copy()\n",
    "ranking[\"similarity_score\"] = similarities\n",
    "ranking = ranking.sort_values(by=\"similarity_score\", ascending=False)\n",
    "\n",
    "ranking[[\"resume\", \"similarity_score\"]].head(5)\n"
   ]
  },
  {
   "cell_type": "markdown",
   "id": "2f585b3f",
   "metadata": {
    "papermill": {
     "duration": 0.004035,
     "end_time": "2025-08-22T04:16:05.394000",
     "exception": false,
     "start_time": "2025-08-22T04:16:05.389965",
     "status": "completed"
    },
    "tags": []
   },
   "source": [
    "The top 5 candidates for this job show similarity scores ranging from 38.77% (strongest match) to 31.65% (weaker but still relevant), suggesting a moderate overlap between their resumes and the job description."
   ]
  },
  {
   "cell_type": "markdown",
   "id": "b11ab01f",
   "metadata": {
    "papermill": {
     "duration": 0.003583,
     "end_time": "2025-08-22T04:16:05.401512",
     "exception": false,
     "start_time": "2025-08-22T04:16:05.397929",
     "status": "completed"
    },
    "tags": []
   },
   "source": [
    "## 7.2 Top Resume Matches:"
   ]
  },
  {
   "cell_type": "code",
   "execution_count": 8,
   "id": "5e3f9357",
   "metadata": {
    "execution": {
     "iopub.execute_input": "2025-08-22T04:16:05.410577Z",
     "iopub.status.busy": "2025-08-22T04:16:05.410113Z",
     "iopub.status.idle": "2025-08-22T04:16:05.645224Z",
     "shell.execute_reply": "2025-08-22T04:16:05.644293Z"
    },
    "papermill": {
     "duration": 0.241518,
     "end_time": "2025-08-22T04:16:05.646798",
     "exception": false,
     "start_time": "2025-08-22T04:16:05.405280",
     "status": "completed"
    },
    "tags": []
   },
   "outputs": [
    {
     "data": {
      "image/png": "[encoded data removed]",
      "text/plain": [
       "<Figure size 800x600 with 1 Axes>"
      ]
     },
     "metadata": {},
     "output_type": "display_data"
    }
   ],
   "source": [
    "top5 = ranking.head(5)\n",
    "\n",
    "plt.figure(figsize=(8,6))\n",
    "plt.barh(top5.index.astype(str), top5[\"similarity_score\"], color=\"lightsalmon\")\n",
    "plt.gca().invert_yaxis()\n",
    "plt.title(\"Top 5 Resume Matches for Job 0\")\n",
    "plt.xlabel(\"Cosine Similarity\")\n",
    "plt.show()\n"
   ]
  },
  {
   "cell_type": "markdown",
   "id": "73d46368",
   "metadata": {
    "papermill": {
     "duration": 0.003786,
     "end_time": "2025-08-22T04:16:05.655181",
     "exception": false,
     "start_time": "2025-08-22T04:16:05.651395",
     "status": "completed"
    },
    "tags": []
   },
   "source": [
    "- The chart shows that candidate 9261 is the best match for the first job description which index 0 , it have similarity rate of 39%, followed by 8202 and 2824 and 2206 and 2296. "
   ]
  },
  {
   "cell_type": "markdown",
   "id": "52c6327e",
   "metadata": {
    "papermill": {
     "duration": 0.003867,
     "end_time": "2025-08-22T04:16:05.663586",
     "exception": false,
     "start_time": "2025-08-22T04:16:05.659719",
     "status": "completed"
    },
    "tags": []
   },
   "source": [
    "## 7.3 Detailed Candidate Report:"
   ]
  },
  {
   "cell_type": "code",
   "execution_count": 9,
   "id": "b40f420e",
   "metadata": {
    "execution": {
     "iopub.execute_input": "2025-08-22T04:16:05.672965Z",
     "iopub.status.busy": "2025-08-22T04:16:05.672673Z",
     "iopub.status.idle": "2025-08-22T04:16:05.693226Z",
     "shell.execute_reply": "2025-08-22T04:16:05.692340Z"
    },
    "papermill": {
     "duration": 0.027087,
     "end_time": "2025-08-22T04:16:05.694742",
     "exception": false,
     "start_time": "2025-08-22T04:16:05.667655",
     "status": "completed"
    },
    "tags": []
   },
   "outputs": [
    {
     "name": "stdout",
     "output_type": "stream",
     "text": [
      "====================================================================================================\n",
      "Job ID          : 0\n",
      "Job Title       : Job 0\n",
      "Job Description : Data Analyst needed with experience in SQL, Excel,...\n",
      "\n",
      "Top 5 Candidates:\n",
      "Candidate ID: 9261,  Score: 0.3878\n",
      "Resume: Experienced professional skilled in Power BI, Tabl...\n",
      "\n",
      "Candidate ID: 8202,  Score: 0.3603\n",
      "Resume: Experienced professional skilled in Reporting, SQL...\n",
      "\n",
      "Candidate ID: 2824,  Score: 0.3281\n",
      "Resume: Experienced professional skilled in Power BI, retu...\n",
      "\n",
      "Candidate ID: 2206,  Score: 0.3277\n",
      "Resume: Experienced professional skilled in Excel, Power B...\n",
      "\n",
      "Candidate ID: 2296,  Score: 0.3165\n",
      "Resume: Experienced professional skilled in value, Excel, ...\n",
      "\n"
     ]
    }
   ],
   "source": [
    "# visualisation for the first job \n",
    "job_idx = 0\n",
    "job_title = df.loc[job_idx, \"job_title\"] if \"job_title\" in df.columns else f\"Job {job_idx}\"\n",
    "job_text = df.loc[job_idx, \"job_description\"]\n",
    "\n",
    "# Compare against ALL resumes\n",
    "job_vec = vectorizer.transform([job_text])\n",
    "similarities = cosine_similarity(job_vec, resume_vecs).flatten()\n",
    "\n",
    "# rank candidates\n",
    "ranking = df.copy()\n",
    "ranking[\"similarity_score\"] = similarities\n",
    "ranking[\"candidate_id\"] = ranking.index\n",
    "\n",
    "# Sort by similarity\n",
    "ranking = ranking.sort_values(by=\"similarity_score\", ascending=False)\n",
    "top5 = ranking[[\"candidate_id\", \"resume\", \"similarity_score\"]].head(5)\n",
    "\n",
    "\n",
    "print(\"=\"*100)\n",
    "print(f\"Job ID          : {job_idx}\")\n",
    "print(f\"Job Title       : {job_title}\")\n",
    "print(f\"Job Description : {job_text[:50]}...\") \n",
    "print(\"\\nTop 5 Candidates:\")\n",
    "for i, row in top5.iterrows():\n",
    "    print(f\"Candidate ID: {row['candidate_id']},  Score: {row['similarity_score']:.4f}\")\n",
    "    print(f\"Resume: {row['resume'][:50]}...\\n\") \n"
   ]
  }
 ],
 "metadata": {
  "kaggle": {
   "accelerator": "none",
   "dataSources": [
    {
     "datasetId": 8114919,
     "sourceId": 12831299,
     "sourceType": "datasetVersion"
    }
   ],
   "dockerImageVersionId": 31089,
   "isGpuEnabled": false,
   "isInternetEnabled": true,
   "language": "python",
   "sourceType": "notebook"
  },
  "kernelspec": {
   "display_name": "Python 3",
   "language": "python",
   "name": "python3"
  },
  "language_info": {
   "codemirror_mode": {
    "name": "ipython",
    "version": 3
   },
   "file_extension": ".py",
   "mimetype": "text/x-python",
   "name": "python",
   "nbconvert_exporter": "python",
   "pygments_lexer": "ipython3",
   "version": "3.11.13"
  },
  "papermill": {
   "default_parameters": {},
   "duration": 15.89973,
   "end_time": "2025-08-22T04:16:06.319255",
   "environment_variables": {},
   "exception": null,
   "input_path": "__notebook__.ipynb",
   "output_path": "__notebook__.ipynb",
   "parameters": {},
   "start_time": "2025-08-22T04:15:50.419525",
   "version": "2.6.0"
  }
 },
 "nbformat": 4,
 "nbformat_minor": 5
}
