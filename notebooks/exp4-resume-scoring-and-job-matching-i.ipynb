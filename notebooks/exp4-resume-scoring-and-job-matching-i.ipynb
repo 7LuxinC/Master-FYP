{
 "cells": [
  {
   "cell_type": "markdown",
   "id": "646e6c80",
   "metadata": {
    "papermill": {
     "duration": 0.004121,
     "end_time": "2025-08-28T22:31:56.483803",
     "exception": false,
     "start_time": "2025-08-28T22:31:56.479682",
     "status": "completed"
    },
    "tags": []
   },
   "source": [
    "# 1. Import Libraries:"
   ]
  },
  {
   "cell_type": "code",
   "execution_count": 1,
   "id": "c7004cb0",
   "metadata": {
    "execution": {
     "iopub.execute_input": "2025-08-28T22:31:56.492703Z",
     "iopub.status.busy": "2025-08-28T22:31:56.492325Z",
     "iopub.status.idle": "2025-08-28T22:32:00.095874Z",
     "shell.execute_reply": "2025-08-28T22:32:00.095054Z"
    },
    "papermill": {
     "duration": 3.610208,
     "end_time": "2025-08-28T22:32:00.097678",
     "exception": false,
     "start_time": "2025-08-28T22:31:56.487470",
     "status": "completed"
    },
    "tags": []
   },
   "outputs": [],
   "source": [
    "import pandas as pd\n",
    "from sklearn.feature_extraction.text import TfidfVectorizer\n",
    "from sklearn.metrics.pairwise import cosine_similarity\n",
    "from sklearn.metrics import mean_squared_error\n",
    "import matplotlib.pyplot as plt\n",
    "import seaborn as sns\n"
   ]
  },
  {
   "cell_type": "markdown",
   "id": "91eb1fc6",
   "metadata": {
    "papermill": {
     "duration": 0.003158,
     "end_time": "2025-08-28T22:32:00.104682",
     "exception": false,
     "start_time": "2025-08-28T22:32:00.101524",
     "status": "completed"
    },
    "tags": []
   },
   "source": [
    "# 2. Load Dataset:"
   ]
  },
  {
   "cell_type": "code",
   "execution_count": 2,
   "id": "a0649253",
   "metadata": {
    "execution": {
     "iopub.execute_input": "2025-08-28T22:32:00.112655Z",
     "iopub.status.busy": "2025-08-28T22:32:00.112248Z",
     "iopub.status.idle": "2025-08-28T22:32:00.227930Z",
     "shell.execute_reply": "2025-08-28T22:32:00.227029Z"
    },
    "papermill": {
     "duration": 0.121473,
     "end_time": "2025-08-28T22:32:00.229269",
     "exception": false,
     "start_time": "2025-08-28T22:32:00.107796",
     "status": "completed"
    },
    "tags": []
   },
   "outputs": [
    {
     "data": {
      "text/html": [
       "<div>\n",
       "<style scoped>\n",
       "    .dataframe tbody tr th:only-of-type {\n",
       "        vertical-align: middle;\n",
       "    }\n",
       "\n",
       "    .dataframe tbody tr th {\n",
       "        vertical-align: top;\n",
       "    }\n",
       "\n",
       "    .dataframe thead th {\n",
       "        text-align: right;\n",
       "    }\n",
       "</style>\n",
       "<table border=\"1\" class=\"dataframe\">\n",
       "  <thead>\n",
       "    <tr style=\"text-align: right;\">\n",
       "      <th></th>\n",
       "      <th>job_description</th>\n",
       "      <th>resume</th>\n",
       "      <th>match_score</th>\n",
       "    </tr>\n",
       "  </thead>\n",
       "  <tbody>\n",
       "    <tr>\n",
       "      <th>0</th>\n",
       "      <td>Data Analyst needed with experience in SQL, Ex...</td>\n",
       "      <td>Experienced professional skilled in SQL, Power...</td>\n",
       "      <td>4</td>\n",
       "    </tr>\n",
       "    <tr>\n",
       "      <th>1</th>\n",
       "      <td>Data Scientist needed with experience in Stati...</td>\n",
       "      <td>Experienced professional skilled in Python, De...</td>\n",
       "      <td>4</td>\n",
       "    </tr>\n",
       "    <tr>\n",
       "      <th>2</th>\n",
       "      <td>Software Engineer needed with experience in Sy...</td>\n",
       "      <td>Experienced professional skilled in wait, Git,...</td>\n",
       "      <td>5</td>\n",
       "    </tr>\n",
       "    <tr>\n",
       "      <th>3</th>\n",
       "      <td>ML Engineer needed with experience in Python, ...</td>\n",
       "      <td>Experienced professional skilled in return, De...</td>\n",
       "      <td>4</td>\n",
       "    </tr>\n",
       "    <tr>\n",
       "      <th>4</th>\n",
       "      <td>Software Engineer needed with experience in RE...</td>\n",
       "      <td>Experienced professional skilled in REST APIs,...</td>\n",
       "      <td>5</td>\n",
       "    </tr>\n",
       "    <tr>\n",
       "      <th>5</th>\n",
       "      <td>Data Analyst needed with experience in Excel, ...</td>\n",
       "      <td>Experienced professional skilled in Data Clean...</td>\n",
       "      <td>2</td>\n",
       "    </tr>\n",
       "    <tr>\n",
       "      <th>6</th>\n",
       "      <td>Software Engineer needed with experience in RE...</td>\n",
       "      <td>Experienced professional skilled in System Des...</td>\n",
       "      <td>2</td>\n",
       "    </tr>\n",
       "    <tr>\n",
       "      <th>7</th>\n",
       "      <td>Product Manager needed with experience in Stak...</td>\n",
       "      <td>Experienced professional skilled in Product Ro...</td>\n",
       "      <td>3</td>\n",
       "    </tr>\n",
       "    <tr>\n",
       "      <th>8</th>\n",
       "      <td>Data Analyst needed with experience in Excel, ...</td>\n",
       "      <td>Experienced professional skilled in as, choice...</td>\n",
       "      <td>4</td>\n",
       "    </tr>\n",
       "    <tr>\n",
       "      <th>9</th>\n",
       "      <td>ML Engineer needed with experience in MLOps, P...</td>\n",
       "      <td>Experienced professional skilled in author, Co...</td>\n",
       "      <td>2</td>\n",
       "    </tr>\n",
       "  </tbody>\n",
       "</table>\n",
       "</div>"
      ],
      "text/plain": [
       "                                     job_description  \\\n",
       "0  Data Analyst needed with experience in SQL, Ex...   \n",
       "1  Data Scientist needed with experience in Stati...   \n",
       "2  Software Engineer needed with experience in Sy...   \n",
       "3  ML Engineer needed with experience in Python, ...   \n",
       "4  Software Engineer needed with experience in RE...   \n",
       "5  Data Analyst needed with experience in Excel, ...   \n",
       "6  Software Engineer needed with experience in RE...   \n",
       "7  Product Manager needed with experience in Stak...   \n",
       "8  Data Analyst needed with experience in Excel, ...   \n",
       "9  ML Engineer needed with experience in MLOps, P...   \n",
       "\n",
       "                                              resume  match_score  \n",
       "0  Experienced professional skilled in SQL, Power...            4  \n",
       "1  Experienced professional skilled in Python, De...            4  \n",
       "2  Experienced professional skilled in wait, Git,...            5  \n",
       "3  Experienced professional skilled in return, De...            4  \n",
       "4  Experienced professional skilled in REST APIs,...            5  \n",
       "5  Experienced professional skilled in Data Clean...            2  \n",
       "6  Experienced professional skilled in System Des...            2  \n",
       "7  Experienced professional skilled in Product Ro...            3  \n",
       "8  Experienced professional skilled in as, choice...            4  \n",
       "9  Experienced professional skilled in author, Co...            2  "
      ]
     },
     "execution_count": 2,
     "metadata": {},
     "output_type": "execute_result"
    }
   ],
   "source": [
    "df = pd.read_csv(\"/kaggle/input/resume-vs-job-description-matching-dataset/resume_job_matching_dataset.csv\") \n",
    "\n",
    "df.head(10)"
   ]
  },
  {
   "cell_type": "markdown",
   "id": "d81f2921",
   "metadata": {
    "papermill": {
     "duration": 0.003551,
     "end_time": "2025-08-28T22:32:00.236980",
     "exception": false,
     "start_time": "2025-08-28T22:32:00.233429",
     "status": "completed"
    },
    "tags": []
   },
   "source": [
    "- The dataset resume_job_matching_dataset.csv includes job descriptions, resumes, and a match_score (1–5) indicating alignment between them, with higher scores reflecting stronger matches."
   ]
  },
  {
   "cell_type": "code",
   "execution_count": 3,
   "id": "6dc1c8c3",
   "metadata": {
    "execution": {
     "iopub.execute_input": "2025-08-28T22:32:00.245509Z",
     "iopub.status.busy": "2025-08-28T22:32:00.245222Z",
     "iopub.status.idle": "2025-08-28T22:32:00.522350Z",
     "shell.execute_reply": "2025-08-28T22:32:00.521498Z"
    },
    "papermill": {
     "duration": 0.283001,
     "end_time": "2025-08-28T22:32:00.523722",
     "exception": false,
     "start_time": "2025-08-28T22:32:00.240721",
     "status": "completed"
    },
    "tags": []
   },
   "outputs": [
    {
     "data": {
      "image/png": "[encoded data removed]",
      "text/plain": [
       "<Figure size 600x400 with 1 Axes>"
      ]
     },
     "metadata": {},
     "output_type": "display_data"
    }
   ],
   "source": [
    "\n",
    "# Distribution of match scores\n",
    "plt.figure(figsize=(6,4))\n",
    "sns.countplot(x=\"match_score\", data=df)\n",
    "plt.title(\"Distribution of Match Scores\")\n",
    "plt.xlabel(\"Match Score\")\n",
    "plt.ylabel(\"Count\")\n",
    "plt.show()\n"
   ]
  },
  {
   "cell_type": "markdown",
   "id": "880af20c",
   "metadata": {
    "papermill": {
     "duration": 0.004063,
     "end_time": "2025-08-28T22:32:00.532104",
     "exception": false,
     "start_time": "2025-08-28T22:32:00.528041",
     "status": "completed"
    },
    "tags": []
   },
   "source": [
    "# 3. Data Cleaning:"
   ]
  },
  {
   "cell_type": "code",
   "execution_count": 4,
   "id": "4a9d0a40",
   "metadata": {
    "execution": {
     "iopub.execute_input": "2025-08-28T22:32:00.542120Z",
     "iopub.status.busy": "2025-08-28T22:32:00.541379Z",
     "iopub.status.idle": "2025-08-28T22:32:00.552131Z",
     "shell.execute_reply": "2025-08-28T22:32:00.551178Z"
    },
    "papermill": {
     "duration": 0.017353,
     "end_time": "2025-08-28T22:32:00.553612",
     "exception": false,
     "start_time": "2025-08-28T22:32:00.536259",
     "status": "completed"
    },
    "tags": []
   },
   "outputs": [
    {
     "name": "stdout",
     "output_type": "stream",
     "text": [
      "Dataset size: (10000, 3)\n"
     ]
    }
   ],
   "source": [
    "# clean all missing values if there is any \n",
    "df = df.dropna(subset=[\"job_description\", \"resume\"])\n",
    "df = df.reset_index(drop=True)\n",
    "\n",
    "print(\"Dataset size:\", df.shape)\n"
   ]
  },
  {
   "cell_type": "markdown",
   "id": "383d6a15",
   "metadata": {
    "papermill": {
     "duration": 0.003963,
     "end_time": "2025-08-28T22:32:00.562770",
     "exception": false,
     "start_time": "2025-08-28T22:32:00.558807",
     "status": "completed"
    },
    "tags": []
   },
   "source": [
    "# 4. TF-IDF Vectorisation:"
   ]
  },
  {
   "cell_type": "code",
   "execution_count": 5,
   "id": "fcba593e",
   "metadata": {
    "execution": {
     "iopub.execute_input": "2025-08-28T22:32:00.572678Z",
     "iopub.status.busy": "2025-08-28T22:32:00.571921Z",
     "iopub.status.idle": "2025-08-28T22:32:01.008685Z",
     "shell.execute_reply": "2025-08-28T22:32:01.007684Z"
    },
    "papermill": {
     "duration": 0.443641,
     "end_time": "2025-08-28T22:32:01.010415",
     "exception": false,
     "start_time": "2025-08-28T22:32:00.566774",
     "status": "completed"
    },
    "tags": []
   },
   "outputs": [],
   "source": [
    "# Combine job descriptions and resumes into one corpus\n",
    "corpus = df[\"job_description\"].tolist() + df[\"resume\"].tolist()\n",
    "\n",
    "vectorizer = TfidfVectorizer(stop_words=\"english\", max_features=5000)\n",
    "X = vectorizer.fit_transform(corpus)\n",
    "\n",
    "# Split vectors (job + resume)\n",
    "n = len(df)\n",
    "job_vecs = X[:n]\n",
    "resume_vecs = X[n:]\n"
   ]
  },
  {
   "cell_type": "markdown",
   "id": "3a03beba",
   "metadata": {
    "papermill": {
     "duration": 0.003696,
     "end_time": "2025-08-28T22:32:01.018318",
     "exception": false,
     "start_time": "2025-08-28T22:32:01.014622",
     "status": "completed"
    },
    "tags": []
   },
   "source": [
    "# 5.Cosine Similarity:"
   ]
  },
  {
   "cell_type": "code",
   "execution_count": 6,
   "id": "38a15cbd",
   "metadata": {
    "execution": {
     "iopub.execute_input": "2025-08-28T22:32:01.028290Z",
     "iopub.status.busy": "2025-08-28T22:32:01.027943Z",
     "iopub.status.idle": "2025-08-28T22:32:06.755404Z",
     "shell.execute_reply": "2025-08-28T22:32:06.754425Z"
    },
    "papermill": {
     "duration": 5.734605,
     "end_time": "2025-08-28T22:32:06.756975",
     "exception": false,
     "start_time": "2025-08-28T22:32:01.022370",
     "status": "completed"
    },
    "tags": []
   },
   "outputs": [
    {
     "data": {
      "text/html": [
       "<div>\n",
       "<style scoped>\n",
       "    .dataframe tbody tr th:only-of-type {\n",
       "        vertical-align: middle;\n",
       "    }\n",
       "\n",
       "    .dataframe tbody tr th {\n",
       "        vertical-align: top;\n",
       "    }\n",
       "\n",
       "    .dataframe thead th {\n",
       "        text-align: right;\n",
       "    }\n",
       "</style>\n",
       "<table border=\"1\" class=\"dataframe\">\n",
       "  <thead>\n",
       "    <tr style=\"text-align: right;\">\n",
       "      <th></th>\n",
       "      <th>job_description</th>\n",
       "      <th>resume</th>\n",
       "      <th>match_score</th>\n",
       "      <th>predicted_similarity</th>\n",
       "    </tr>\n",
       "  </thead>\n",
       "  <tbody>\n",
       "    <tr>\n",
       "      <th>0</th>\n",
       "      <td>Data Analyst needed with experience in SQL, Ex...</td>\n",
       "      <td>Experienced professional skilled in SQL, Power...</td>\n",
       "      <td>4</td>\n",
       "      <td>0.106714</td>\n",
       "    </tr>\n",
       "    <tr>\n",
       "      <th>1</th>\n",
       "      <td>Data Scientist needed with experience in Stati...</td>\n",
       "      <td>Experienced professional skilled in Python, De...</td>\n",
       "      <td>4</td>\n",
       "      <td>0.149304</td>\n",
       "    </tr>\n",
       "    <tr>\n",
       "      <th>2</th>\n",
       "      <td>Software Engineer needed with experience in Sy...</td>\n",
       "      <td>Experienced professional skilled in wait, Git,...</td>\n",
       "      <td>5</td>\n",
       "      <td>0.108091</td>\n",
       "    </tr>\n",
       "    <tr>\n",
       "      <th>3</th>\n",
       "      <td>ML Engineer needed with experience in Python, ...</td>\n",
       "      <td>Experienced professional skilled in return, De...</td>\n",
       "      <td>4</td>\n",
       "      <td>0.117521</td>\n",
       "    </tr>\n",
       "    <tr>\n",
       "      <th>4</th>\n",
       "      <td>Software Engineer needed with experience in RE...</td>\n",
       "      <td>Experienced professional skilled in REST APIs,...</td>\n",
       "      <td>5</td>\n",
       "      <td>0.186584</td>\n",
       "    </tr>\n",
       "  </tbody>\n",
       "</table>\n",
       "</div>"
      ],
      "text/plain": [
       "                                     job_description  \\\n",
       "0  Data Analyst needed with experience in SQL, Ex...   \n",
       "1  Data Scientist needed with experience in Stati...   \n",
       "2  Software Engineer needed with experience in Sy...   \n",
       "3  ML Engineer needed with experience in Python, ...   \n",
       "4  Software Engineer needed with experience in RE...   \n",
       "\n",
       "                                              resume  match_score  \\\n",
       "0  Experienced professional skilled in SQL, Power...            4   \n",
       "1  Experienced professional skilled in Python, De...            4   \n",
       "2  Experienced professional skilled in wait, Git,...            5   \n",
       "3  Experienced professional skilled in return, De...            4   \n",
       "4  Experienced professional skilled in REST APIs,...            5   \n",
       "\n",
       "   predicted_similarity  \n",
       "0              0.106714  \n",
       "1              0.149304  \n",
       "2              0.108091  \n",
       "3              0.117521  \n",
       "4              0.186584  "
      ]
     },
     "execution_count": 6,
     "metadata": {},
     "output_type": "execute_result"
    }
   ],
   "source": [
    "# Compute similarity for each job–resume pair\n",
    "df[\"predicted_similarity\"] = [\n",
    "    cosine_similarity(job_vecs[i], resume_vecs[i])[0][0] for i in range(n)\n",
    "]\n",
    "\n",
    "df.head()\n"
   ]
  },
  {
   "cell_type": "markdown",
   "id": "1a7fe0a5",
   "metadata": {
    "papermill": {
     "duration": 0.004127,
     "end_time": "2025-08-28T22:32:06.765652",
     "exception": false,
     "start_time": "2025-08-28T22:32:06.761525",
     "status": "completed"
    },
    "tags": []
   },
   "source": [
    "# 6. Evaluation:"
   ]
  },
  {
   "cell_type": "code",
   "execution_count": 7,
   "id": "1ca40695",
   "metadata": {
    "execution": {
     "iopub.execute_input": "2025-08-28T22:32:06.775045Z",
     "iopub.status.busy": "2025-08-28T22:32:06.774729Z",
     "iopub.status.idle": "2025-08-28T22:32:06.799117Z",
     "shell.execute_reply": "2025-08-28T22:32:06.798218Z"
    },
    "papermill": {
     "duration": 0.031229,
     "end_time": "2025-08-28T22:32:06.800996",
     "exception": false,
     "start_time": "2025-08-28T22:32:06.769767",
     "status": "completed"
    },
    "tags": []
   },
   "outputs": [
    {
     "name": "stdout",
     "output_type": "stream",
     "text": [
      "MSE: 2.9681902289012396\n"
     ]
    }
   ],
   "source": [
    "from sklearn.preprocessing import MinMaxScaler\n",
    "from sklearn.metrics import mean_squared_error\n",
    "\n",
    "scaler = MinMaxScaler(feature_range=(1, 5))\n",
    "\n",
    "# Scale predicted similarities to match the 1–5 range\n",
    "df[\"predicted_scaled\"] = scaler.fit_transform(df[[\"predicted_similarity\"]])\n",
    "\n",
    "# Compute Mean Squared Error\n",
    "mse = mean_squared_error(df[\"match_score\"], df[\"predicted_scaled\"])\n",
    "print(\"MSE:\", mse)\n",
    "\n"
   ]
  },
  {
   "cell_type": "code",
   "execution_count": 8,
   "id": "0da0aa1a",
   "metadata": {
    "execution": {
     "iopub.execute_input": "2025-08-28T22:32:06.810670Z",
     "iopub.status.busy": "2025-08-28T22:32:06.809945Z",
     "iopub.status.idle": "2025-08-28T22:32:06.820593Z",
     "shell.execute_reply": "2025-08-28T22:32:06.819898Z"
    },
    "papermill": {
     "duration": 0.016362,
     "end_time": "2025-08-28T22:32:06.821721",
     "exception": false,
     "start_time": "2025-08-28T22:32:06.805359",
     "status": "completed"
    },
    "tags": []
   },
   "outputs": [
    {
     "data": {
      "text/html": [
       "<div>\n",
       "<style scoped>\n",
       "    .dataframe tbody tr th:only-of-type {\n",
       "        vertical-align: middle;\n",
       "    }\n",
       "\n",
       "    .dataframe tbody tr th {\n",
       "        vertical-align: top;\n",
       "    }\n",
       "\n",
       "    .dataframe thead th {\n",
       "        text-align: right;\n",
       "    }\n",
       "</style>\n",
       "<table border=\"1\" class=\"dataframe\">\n",
       "  <thead>\n",
       "    <tr style=\"text-align: right;\">\n",
       "      <th></th>\n",
       "      <th>job_description</th>\n",
       "      <th>resume</th>\n",
       "      <th>match_score</th>\n",
       "      <th>predicted_scaled</th>\n",
       "    </tr>\n",
       "  </thead>\n",
       "  <tbody>\n",
       "    <tr>\n",
       "      <th>0</th>\n",
       "      <td>Data Analyst needed with experience in SQL, Ex...</td>\n",
       "      <td>Experienced professional skilled in SQL, Power...</td>\n",
       "      <td>4</td>\n",
       "      <td>2.055367</td>\n",
       "    </tr>\n",
       "    <tr>\n",
       "      <th>1</th>\n",
       "      <td>Data Scientist needed with experience in Stati...</td>\n",
       "      <td>Experienced professional skilled in Python, De...</td>\n",
       "      <td>4</td>\n",
       "      <td>2.476568</td>\n",
       "    </tr>\n",
       "    <tr>\n",
       "      <th>2</th>\n",
       "      <td>Software Engineer needed with experience in Sy...</td>\n",
       "      <td>Experienced professional skilled in wait, Git,...</td>\n",
       "      <td>5</td>\n",
       "      <td>2.068986</td>\n",
       "    </tr>\n",
       "    <tr>\n",
       "      <th>3</th>\n",
       "      <td>ML Engineer needed with experience in Python, ...</td>\n",
       "      <td>Experienced professional skilled in return, De...</td>\n",
       "      <td>4</td>\n",
       "      <td>2.162245</td>\n",
       "    </tr>\n",
       "    <tr>\n",
       "      <th>4</th>\n",
       "      <td>Software Engineer needed with experience in RE...</td>\n",
       "      <td>Experienced professional skilled in REST APIs,...</td>\n",
       "      <td>5</td>\n",
       "      <td>2.845256</td>\n",
       "    </tr>\n",
       "    <tr>\n",
       "      <th>5</th>\n",
       "      <td>Data Analyst needed with experience in Excel, ...</td>\n",
       "      <td>Experienced professional skilled in Data Clean...</td>\n",
       "      <td>2</td>\n",
       "      <td>2.024175</td>\n",
       "    </tr>\n",
       "    <tr>\n",
       "      <th>6</th>\n",
       "      <td>Software Engineer needed with experience in RE...</td>\n",
       "      <td>Experienced professional skilled in System Des...</td>\n",
       "      <td>2</td>\n",
       "      <td>2.815928</td>\n",
       "    </tr>\n",
       "    <tr>\n",
       "      <th>7</th>\n",
       "      <td>Product Manager needed with experience in Stak...</td>\n",
       "      <td>Experienced professional skilled in Product Ro...</td>\n",
       "      <td>3</td>\n",
       "      <td>2.047768</td>\n",
       "    </tr>\n",
       "    <tr>\n",
       "      <th>8</th>\n",
       "      <td>Data Analyst needed with experience in Excel, ...</td>\n",
       "      <td>Experienced professional skilled in as, choice...</td>\n",
       "      <td>4</td>\n",
       "      <td>2.199907</td>\n",
       "    </tr>\n",
       "    <tr>\n",
       "      <th>9</th>\n",
       "      <td>ML Engineer needed with experience in MLOps, P...</td>\n",
       "      <td>Experienced professional skilled in author, Co...</td>\n",
       "      <td>2</td>\n",
       "      <td>1.139395</td>\n",
       "    </tr>\n",
       "  </tbody>\n",
       "</table>\n",
       "</div>"
      ],
      "text/plain": [
       "                                     job_description  \\\n",
       "0  Data Analyst needed with experience in SQL, Ex...   \n",
       "1  Data Scientist needed with experience in Stati...   \n",
       "2  Software Engineer needed with experience in Sy...   \n",
       "3  ML Engineer needed with experience in Python, ...   \n",
       "4  Software Engineer needed with experience in RE...   \n",
       "5  Data Analyst needed with experience in Excel, ...   \n",
       "6  Software Engineer needed with experience in RE...   \n",
       "7  Product Manager needed with experience in Stak...   \n",
       "8  Data Analyst needed with experience in Excel, ...   \n",
       "9  ML Engineer needed with experience in MLOps, P...   \n",
       "\n",
       "                                              resume  match_score  \\\n",
       "0  Experienced professional skilled in SQL, Power...            4   \n",
       "1  Experienced professional skilled in Python, De...            4   \n",
       "2  Experienced professional skilled in wait, Git,...            5   \n",
       "3  Experienced professional skilled in return, De...            4   \n",
       "4  Experienced professional skilled in REST APIs,...            5   \n",
       "5  Experienced professional skilled in Data Clean...            2   \n",
       "6  Experienced professional skilled in System Des...            2   \n",
       "7  Experienced professional skilled in Product Ro...            3   \n",
       "8  Experienced professional skilled in as, choice...            4   \n",
       "9  Experienced professional skilled in author, Co...            2   \n",
       "\n",
       "   predicted_scaled  \n",
       "0          2.055367  \n",
       "1          2.476568  \n",
       "2          2.068986  \n",
       "3          2.162245  \n",
       "4          2.845256  \n",
       "5          2.024175  \n",
       "6          2.815928  \n",
       "7          2.047768  \n",
       "8          2.199907  \n",
       "9          1.139395  "
      ]
     },
     "execution_count": 8,
     "metadata": {},
     "output_type": "execute_result"
    }
   ],
   "source": [
    "# Create a comparison table\n",
    "comparison_df = df[[\"job_description\", \"resume\", \"match_score\", \"predicted_scaled\"]]\n",
    "\n",
    "comparison_df.head(10)\n"
   ]
  },
  {
   "cell_type": "markdown",
   "id": "18626862",
   "metadata": {
    "papermill": {
     "duration": 0.004491,
     "end_time": "2025-08-28T22:32:06.830964",
     "exception": false,
     "start_time": "2025-08-28T22:32:06.826473",
     "status": "completed"
    },
    "tags": []
   },
   "source": [
    "# 7. Visualisation:"
   ]
  },
  {
   "cell_type": "markdown",
   "id": "8a3c08eb",
   "metadata": {
    "papermill": {
     "duration": 0.004306,
     "end_time": "2025-08-28T22:32:06.839923",
     "exception": false,
     "start_time": "2025-08-28T22:32:06.835617",
     "status": "completed"
    },
    "tags": []
   },
   "source": [
    "## 7.1 Compute Resume Similarity for One Job"
   ]
  },
  {
   "cell_type": "code",
   "execution_count": 9,
   "id": "e6ed8fe6",
   "metadata": {
    "execution": {
     "iopub.execute_input": "2025-08-28T22:32:06.850131Z",
     "iopub.status.busy": "2025-08-28T22:32:06.849817Z",
     "iopub.status.idle": "2025-08-28T22:32:06.873539Z",
     "shell.execute_reply": "2025-08-28T22:32:06.872415Z"
    },
    "papermill": {
     "duration": 0.031116,
     "end_time": "2025-08-28T22:32:06.875444",
     "exception": false,
     "start_time": "2025-08-28T22:32:06.844328",
     "status": "completed"
    },
    "tags": []
   },
   "outputs": [
    {
     "data": {
      "text/html": [
       "<div>\n",
       "<style scoped>\n",
       "    .dataframe tbody tr th:only-of-type {\n",
       "        vertical-align: middle;\n",
       "    }\n",
       "\n",
       "    .dataframe tbody tr th {\n",
       "        vertical-align: top;\n",
       "    }\n",
       "\n",
       "    .dataframe thead th {\n",
       "        text-align: right;\n",
       "    }\n",
       "</style>\n",
       "<table border=\"1\" class=\"dataframe\">\n",
       "  <thead>\n",
       "    <tr style=\"text-align: right;\">\n",
       "      <th></th>\n",
       "      <th>resume</th>\n",
       "      <th>similarity_score</th>\n",
       "    </tr>\n",
       "  </thead>\n",
       "  <tbody>\n",
       "    <tr>\n",
       "      <th>9261</th>\n",
       "      <td>Experienced professional skilled in Power BI, ...</td>\n",
       "      <td>0.387788</td>\n",
       "    </tr>\n",
       "    <tr>\n",
       "      <th>8202</th>\n",
       "      <td>Experienced professional skilled in Reporting,...</td>\n",
       "      <td>0.360314</td>\n",
       "    </tr>\n",
       "    <tr>\n",
       "      <th>2824</th>\n",
       "      <td>Experienced professional skilled in Power BI, ...</td>\n",
       "      <td>0.328135</td>\n",
       "    </tr>\n",
       "    <tr>\n",
       "      <th>2206</th>\n",
       "      <td>Experienced professional skilled in Excel, Pow...</td>\n",
       "      <td>0.327663</td>\n",
       "    </tr>\n",
       "    <tr>\n",
       "      <th>2296</th>\n",
       "      <td>Experienced professional skilled in value, Exc...</td>\n",
       "      <td>0.316530</td>\n",
       "    </tr>\n",
       "  </tbody>\n",
       "</table>\n",
       "</div>"
      ],
      "text/plain": [
       "                                                 resume  similarity_score\n",
       "9261  Experienced professional skilled in Power BI, ...          0.387788\n",
       "8202  Experienced professional skilled in Reporting,...          0.360314\n",
       "2824  Experienced professional skilled in Power BI, ...          0.328135\n",
       "2206  Experienced professional skilled in Excel, Pow...          0.327663\n",
       "2296  Experienced professional skilled in value, Exc...          0.316530"
      ]
     },
     "execution_count": 9,
     "metadata": {},
     "output_type": "execute_result"
    }
   ],
   "source": [
    "job_text = df.loc[0, \"job_description\"]\n",
    "\n",
    "# Compare against ALL resumes\n",
    "job_vec = vectorizer.transform([job_text])\n",
    "similarities = cosine_similarity(job_vec, resume_vecs).flatten()\n",
    "\n",
    "# Store ranking\n",
    "ranking = df.copy()\n",
    "ranking[\"similarity_score\"] = similarities\n",
    "ranking = ranking.sort_values(by=\"similarity_score\", ascending=False)\n",
    "\n",
    "ranking[[\"resume\", \"similarity_score\"]].head(5)\n"
   ]
  },
  {
   "cell_type": "markdown",
   "id": "911e708d",
   "metadata": {
    "papermill": {
     "duration": 0.005627,
     "end_time": "2025-08-28T22:32:06.887100",
     "exception": false,
     "start_time": "2025-08-28T22:32:06.881473",
     "status": "completed"
    },
    "tags": []
   },
   "source": [
    "The top 5 candidates for this job show similarity scores ranging from 38.77% (strongest match) to 31.65% (weaker but still relevant), suggesting a moderate overlap between their resumes and the job description."
   ]
  },
  {
   "cell_type": "markdown",
   "id": "fad1d9f8",
   "metadata": {
    "papermill": {
     "duration": 0.004225,
     "end_time": "2025-08-28T22:32:06.896298",
     "exception": false,
     "start_time": "2025-08-28T22:32:06.892073",
     "status": "completed"
    },
    "tags": []
   },
   "source": [
    "## 7.2 Top Resume Matches:"
   ]
  },
  {
   "cell_type": "code",
   "execution_count": 10,
   "id": "083762ee",
   "metadata": {
    "execution": {
     "iopub.execute_input": "2025-08-28T22:32:06.906805Z",
     "iopub.status.busy": "2025-08-28T22:32:06.906090Z",
     "iopub.status.idle": "2025-08-28T22:32:07.072372Z",
     "shell.execute_reply": "2025-08-28T22:32:07.071232Z"
    },
    "papermill": {
     "duration": 0.173303,
     "end_time": "2025-08-28T22:32:07.074162",
     "exception": false,
     "start_time": "2025-08-28T22:32:06.900859",
     "status": "completed"
    },
    "tags": []
   },
   "outputs": [
    {
     "data": {
      "image/png": "[encoded data removed]",
      "text/plain": [
       "<Figure size 800x600 with 1 Axes>"
      ]
     },
     "metadata": {},
     "output_type": "display_data"
    }
   ],
   "source": [
    "top5 = ranking.head(5)\n",
    "\n",
    "plt.figure(figsize=(8,6))\n",
    "plt.barh(top5.index.astype(str), top5[\"similarity_score\"], color=\"lightsalmon\")\n",
    "plt.gca().invert_yaxis()\n",
    "plt.title(\"Top 5 Resume Matches for Job 0\")\n",
    "plt.xlabel(\"Cosine Similarity\")\n",
    "plt.show()\n"
   ]
  },
  {
   "cell_type": "markdown",
   "id": "b987479e",
   "metadata": {
    "papermill": {
     "duration": 0.005473,
     "end_time": "2025-08-28T22:32:07.087698",
     "exception": false,
     "start_time": "2025-08-28T22:32:07.082225",
     "status": "completed"
    },
    "tags": []
   },
   "source": [
    "- The chart shows that candidate 9261 is the best match for the first job description which index 0 , it have similarity rate of 39%, followed by 8202 and 2824 and 2206 and 2296. "
   ]
  },
  {
   "cell_type": "markdown",
   "id": "98afbcee",
   "metadata": {
    "papermill": {
     "duration": 0.005152,
     "end_time": "2025-08-28T22:32:07.098555",
     "exception": false,
     "start_time": "2025-08-28T22:32:07.093403",
     "status": "completed"
    },
    "tags": []
   },
   "source": [
    "## 7.3 Detailed Candidate Report:"
   ]
  },
  {
   "cell_type": "code",
   "execution_count": 11,
   "id": "1ca3a9b8",
   "metadata": {
    "execution": {
     "iopub.execute_input": "2025-08-28T22:32:07.111623Z",
     "iopub.status.busy": "2025-08-28T22:32:07.109664Z",
     "iopub.status.idle": "2025-08-28T22:32:07.122926Z",
     "shell.execute_reply": "2025-08-28T22:32:07.121867Z"
    },
    "papermill": {
     "duration": 0.021617,
     "end_time": "2025-08-28T22:32:07.125262",
     "exception": false,
     "start_time": "2025-08-28T22:32:07.103645",
     "status": "completed"
    },
    "tags": []
   },
   "outputs": [
    {
     "name": "stdout",
     "output_type": "stream",
     "text": [
      "\n",
      "Job 0 Title: Data Analyst\n",
      "Job 0 Description:\n",
      "Data Analyst needed with experience in SQL, Excel,...\n",
      "\n",
      "Top 5 Candidates:\n",
      "================================================================================\n",
      "Candidate ID     : 9261\n",
      "Similarity Score : 0.3878\n",
      "Resume           : Experienced professional skilled in Power BI, Tabl...\n",
      "\n",
      "================================================================================\n",
      "Candidate ID     : 8202\n",
      "Similarity Score : 0.3603\n",
      "Resume           : Experienced professional skilled in Reporting, SQL...\n",
      "\n",
      "================================================================================\n",
      "Candidate ID     : 2824\n",
      "Similarity Score : 0.3281\n",
      "Resume           : Experienced professional skilled in Power BI, retu...\n",
      "\n",
      "================================================================================\n",
      "Candidate ID     : 2206\n",
      "Similarity Score : 0.3277\n",
      "Resume           : Experienced professional skilled in Excel, Power B...\n",
      "\n",
      "================================================================================\n",
      "Candidate ID     : 2296\n",
      "Similarity Score : 0.3165\n",
      "Resume           : Experienced professional skilled in value, Excel, ...\n",
      "\n"
     ]
    }
   ],
   "source": [
    "\n",
    "ranking[\"candidate_id\"] = ranking.index\n",
    "top5 = ranking.head(5)\n",
    "\n",
    "# Define job info\n",
    "job_id = 0\n",
    "job_title = \" \".join(job_text.split()[:2])\n",
    "job_text = df.loc[job_id, \"job_description\"]\n",
    "\n",
    "# Print job info\n",
    "print(f\"\\nJob {job_id} Title: {job_title}\")\n",
    "print(f\"Job {job_id} Description:\\n{job_text[:50]}...\\n\")\n",
    "\n",
    "# Print top 5 candidates\n",
    "print(\"Top 5 Candidates:\")\n",
    "for idx, row in top5.iterrows():\n",
    "    print(\"=\" * 80)\n",
    "    print(f\"Candidate ID     : {row['candidate_id']}\")\n",
    "    print(f\"Similarity Score : {row['similarity_score']:.4f}\")\n",
    "    print(f\"Resume           : {row['resume'][:50]}...\\n\")\n"
   ]
  }
 ],
 "metadata": {
  "kaggle": {
   "accelerator": "gpu",
   "dataSources": [
    {
     "datasetId": 8114919,
     "sourceId": 12831299,
     "sourceType": "datasetVersion"
    }
   ],
   "dockerImageVersionId": 31089,
   "isGpuEnabled": true,
   "isInternetEnabled": true,
   "language": "python",
   "sourceType": "notebook"
  },
  "kernelspec": {
   "display_name": "Python 3",
   "language": "python",
   "name": "python3"
  },
  "language_info": {
   "codemirror_mode": {
    "name": "ipython",
    "version": 3
   },
   "file_extension": ".py",
   "mimetype": "text/x-python",
   "name": "python",
   "nbconvert_exporter": "python",
   "pygments_lexer": "ipython3",
   "version": "3.11.13"
  },
  "papermill": {
   "default_parameters": {},
   "duration": 15.986619,
   "end_time": "2025-08-28T22:32:07.750365",
   "environment_variables": {},
   "exception": null,
   "input_path": "__notebook__.ipynb",
   "output_path": "__notebook__.ipynb",
   "parameters": {},
   "start_time": "2025-08-28T22:31:51.763746",
   "version": "2.6.0"
  }
 },
 "nbformat": 4,
 "nbformat_minor": 5
}
